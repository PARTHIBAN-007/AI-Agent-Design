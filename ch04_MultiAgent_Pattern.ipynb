{
 "cells": [
  {
   "cell_type": "markdown",
   "metadata": {},
   "source": [
    "# MultiAgent Pattern\n",
    "\n",
    "Multiple agents collaborate to complete a complex task in a structured workflow."
   ]
  },
  {
   "cell_type": "markdown",
   "metadata": {},
   "source": [
    "<img src = \"https://github.com/neural-maze/agentic_patterns/raw/main/img/multiagent_pattern.png\" height =\"650\">"
   ]
  },
  {
   "cell_type": "code",
   "execution_count": 62,
   "metadata": {},
   "outputs": [
    {
     "name": "stdout",
     "output_type": "stream",
     "text": [
      "```python\n",
      "def factorial(n):\n",
      "    if n == 0:\n",
      "        return 1\n",
      "    else:\n",
      "        return n * factorial(n-1)\n",
      "\n",
      "def factorial_iterative(n):\n",
      "    result = 1\n",
      "    for i in range(1, n+1):\n",
      "        result *= i\n",
      "    return result\n",
      "```\n"
     ]
    }
   ],
   "source": [
    "from agentic_patterns.multiagent_pattern.agent import Agent\n",
    "\n",
    "model = \"llama-3.3-70b-versatile\"\n",
    "\n",
    "agent_1 = Agent(\n",
    "        name=\"Code Generator Agent\",\n",
    "        backstory=\"You are an expert software engineer, skilled in writing clean and efficient code.\",\n",
    "        task_description=\"Write a Python function that calculates the factorial of a number.\",\n",
    "        task_expected_output=\"Just output the Python code without any explanations or comments.\",\n",
    "        llm=model\n",
    "    )\n",
    "\n",
    "print(agent_1.run())"
   ]
  },
  {
   "cell_type": "code",
   "execution_count": 63,
   "metadata": {},
   "outputs": [],
   "source": [
    "from agentic_patterns.tool_pattern.tool import tool\n",
    "@tool\n",
    "def write_str_to_text(string_data: str, txt_filename: str):\n",
    "    with open(txt_filename, mode='w', encoding='utf-8') as file:\n",
    "        file.write(string_data)\n",
    "\n",
    "    print(f\"Data successfully written to {txt_filename}\")"
   ]
  },
  {
   "cell_type": "code",
   "execution_count": 64,
   "metadata": {},
   "outputs": [],
   "source": [
    "agent_tool_example = Agent(\n",
    "    name=\"Writer Agent\",\n",
    "    backstory=\"You are a language model specialised in writing text into .txt files\",\n",
    "    task_description=\"Write the string 'This is a Tool Agent' into './tool_agent_example.txt'\",\n",
    "    task_expected_output=\"A .txt file containing the given string\",\n",
    "    tools=write_str_to_text,\n",
    "    llm = model\n",
    ")\n"
   ]
  },
  {
   "cell_type": "code",
   "execution_count": 65,
   "metadata": {},
   "outputs": [
    {
     "data": {
      "text/plain": [
       "\"A .txt file containing the string 'This is a Tool Agent' has been created.\""
      ]
     },
     "execution_count": 65,
     "metadata": {},
     "output_type": "execute_result"
    }
   ],
   "source": [
    "agent_tool_example.run()"
   ]
  },
  {
   "cell_type": "markdown",
   "metadata": {},
   "source": [
    "## Agent Dependencies"
   ]
  },
  {
   "cell_type": "code",
   "execution_count": 66,
   "metadata": {},
   "outputs": [],
   "source": [
    "agent_1 = Agent(\n",
    "        name=\"Code Generator Agent\",\n",
    "        backstory=\"You are an expert software engineer, skilled in writing clean and efficient code.\",\n",
    "        task_description=\"Write a Python function that calculates the factorial of a number.\",\n",
    "        task_expected_output=\"Just output the Python code without any explanations or comments.\",\n",
    "        llm=model\n",
    "    )\n",
    "\n",
    "agent_2 = Agent(\n",
    "        name=\"Code Translator Agent\",\n",
    "        backstory=\"You are a programming polyglot, skilled in translating code into multiple languages.\",\n",
    "        task_description=\"Translate a Python function into JavaScript.\", \n",
    "        task_expected_output=\"Just output the JavaScript code and nothing else.\",\n",
    "        llm=model\n",
    "    )"
   ]
  },
  {
   "cell_type": "code",
   "execution_count": 67,
   "metadata": {},
   "outputs": [
    {
     "data": {
      "text/plain": [
       "Code Translator Agent"
      ]
     },
     "execution_count": 67,
     "metadata": {},
     "output_type": "execute_result"
    }
   ],
   "source": [
    "#We can define the agent dependencies using the `>>` operator.\n",
    "agent_1 >> agent_2"
   ]
  },
  {
   "cell_type": "code",
   "execution_count": 68,
   "metadata": {},
   "outputs": [
    {
     "name": "stdout",
     "output_type": "stream",
     "text": [
      "Agent 1 dependencies: []\n",
      "Agent 1 dependents: [Code Translator Agent]\n",
      "Agent 2 dependencies:  [Code Generator Agent]\n",
      "Agent 2 dependents:  []\n"
     ]
    }
   ],
   "source": [
    "print(f\"Agent 1 dependencies: {agent_1.dependencies}\")\n",
    "print(f\"Agent 1 dependents: {agent_1.dependents}\")\n",
    "print(f\"Agent 2 dependencies:  {agent_2.dependencies}\")\n",
    "print(f\"Agent 2 dependents:  {agent_2.dependents}\")"
   ]
  },
  {
   "cell_type": "code",
   "execution_count": 69,
   "metadata": {},
   "outputs": [
    {
     "name": "stdout",
     "output_type": "stream",
     "text": [
      "def factorial(n):\n",
      "    if n == 0:\n",
      "        return 1\n",
      "    else:\n",
      "        return n * factorial(n-1)\n"
     ]
    }
   ],
   "source": [
    "print(agent_1.run())"
   ]
  },
  {
   "cell_type": "code",
   "execution_count": 70,
   "metadata": {},
   "outputs": [
    {
     "name": "stdout",
     "output_type": "stream",
     "text": [
      "Code Translator Agent received context: \n",
      "def factorial(n):\n",
      "    if n == 0:\n",
      "        return 1\n",
      "    else:\n",
      "        return n * factorial(n-1)\n"
     ]
    }
   ],
   "source": [
    "print(agent_2.context)"
   ]
  },
  {
   "cell_type": "markdown",
   "metadata": {},
   "source": [
    "# Crew"
   ]
  },
  {
   "cell_type": "code",
   "execution_count": 71,
   "metadata": {},
   "outputs": [],
   "source": [
    "from agentic_patterns.multiagent_pattern.crew import Crew\n",
    "\n",
    "with Crew() as crew:\n",
    "    agent_1 = Agent(\n",
    "        name=\"Code Generator Agent\",\n",
    "        backstory=\"You are an expert software engineer, skilled in writing clean and efficient code.\",\n",
    "        task_description=\"Write a Python function that calculates the factorial of a number.\",\n",
    "        task_expected_output=\"Just output the Python code without any explanations or comments.\",\n",
    "        llm=model\n",
    "    )\n",
    "\n",
    "    agent_2 = Agent(\n",
    "        name=\"Code Translator Agent\",\n",
    "        backstory=\"You are a programming polyglot, skilled in translating code into multiple languages.\",\n",
    "        task_description=\"Translate a Python function into JavaScript.\", \n",
    "        task_expected_output=\"Just output the JavaScript code and nothing else.\",\n",
    "        llm=model\n",
    "    )\n",
    "\n",
    "    agent_3 = Agent(\n",
    "        name=\"File Writer Agent\",\n",
    "        backstory=\"You are an automation expert, specializing in saving code snippets into files.\",\n",
    "        task_description=\"You'll receive JavaScript code in your context. You need to write the code into './code.js' file.\",\n",
    "        task_expected_output=\"A JavaScript file containing the translated code received from the context.\",\n",
    "        tools=write_str_to_text,\n",
    "        llm=model\n",
    "    )\n",
    "\n",
    "    agent_1 >> agent_2 >> agent_3\n"
   ]
  },
  {
   "cell_type": "code",
   "execution_count": 72,
   "metadata": {},
   "outputs": [
    {
     "name": "stdout",
     "output_type": "stream",
     "text": [
      "\u001b[1m\u001b[36m\n",
      "==================================================\n",
      "\u001b[35mRUNNING AGENT: Code Generator Agent\n",
      "\u001b[1m\u001b[36m==================================================\n",
      "\n",
      "\u001b[31mdef factorial(n):\n",
      "    if n == 0:\n",
      "        return 1\n",
      "    else:\n",
      "        return n * factorial(n-1)\n",
      "\u001b[1m\u001b[36m\n",
      "==================================================\n",
      "\u001b[35mRUNNING AGENT: Code Translator Agent\n",
      "\u001b[1m\u001b[36m==================================================\n",
      "\n",
      "\u001b[31m```javascript\n",
      "function factorial(n) {\n",
      "    if (n == 0) {\n",
      "        return 1;\n",
      "    } else {\n",
      "        return n * factorial(n-1);\n",
      "    }\n",
      "}\n",
      "```\n",
      "\u001b[1m\u001b[36m\n",
      "==================================================\n",
      "\u001b[35mRUNNING AGENT: File Writer Agent\n",
      "\u001b[1m\u001b[36m==================================================\n",
      "\n",
      "\u001b[35m\n",
      "Thought: I need to write the provided JavaScript code into a file named './code.js'. The code is provided in the context and I have a tool to write string data into a text file.\n",
      "\u001b[32m\n",
      "Using Tool: write_str_to_text\n",
      "\u001b[32m\n",
      "Tool call dict: \n",
      "{'name': 'write_str_to_text', 'arguments': {'string_data': 'function factorial(n) {\\n    if (n == 0) {\\n        return 1;\\n    } else {\\n        return n * factorial(n-1);\\n    }\\n}', 'txt_filename': './code.js'}, 'id': 0}\n",
      "Data successfully written to ./code.js\n",
      "\u001b[32m\n",
      "Tool result: \n",
      "None\n",
      "\u001b[34m\n",
      "Observations: {0: None}\n",
      "\u001b[31mA JavaScript file containing the provided code has been created at './code.js'\n",
      "None\n"
     ]
    }
   ],
   "source": [
    "print(crew.run())"
   ]
  },
  {
   "cell_type": "code",
   "execution_count": null,
   "metadata": {},
   "outputs": [],
   "source": []
  }
 ],
 "metadata": {
  "kernelspec": {
   "display_name": "base",
   "language": "python",
   "name": "python3"
  },
  "language_info": {
   "codemirror_mode": {
    "name": "ipython",
    "version": 3
   },
   "file_extension": ".py",
   "mimetype": "text/x-python",
   "name": "python",
   "nbconvert_exporter": "python",
   "pygments_lexer": "ipython3",
   "version": "3.12.4"
  }
 },
 "nbformat": 4,
 "nbformat_minor": 2
}
