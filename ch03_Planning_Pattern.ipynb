{
 "cells": [
  {
   "cell_type": "markdown",
   "metadata": {},
   "source": [
    "# Planning Pattern\n",
    "\n",
    "The agent autonomously plans a sequence of tasks before executing them."
   ]
  },
  {
   "cell_type": "markdown",
   "metadata": {},
   "source": [
    "<img src = \"https://github.com/neural-maze/agentic_patterns/raw/main/img/planning_pattern.png\" height = \"600\">"
   ]
  },
  {
   "cell_type": "code",
   "execution_count": 112,
   "metadata": {},
   "outputs": [],
   "source": [
    "import os \n",
    "import re\n",
    "import json\n",
    "from dotenv import load_dotenv\n",
    "load_dotenv()\n",
    "GROQ_API_KEY = os.getenv(\"GROQ_API_KEY\")\n",
    "from groq import Groq\n",
    "from agentic_patterns.tool_pattern.tool import tool\n",
    "from agentic_patterns.utils.extraction import extract_tag_content\n",
    "\n",
    "model = \"llama-3.3-70b-versatile\"\n",
    "client = Groq()\n"
   ]
  },
  {
   "cell_type": "code",
   "execution_count": 113,
   "metadata": {},
   "outputs": [],
   "source": [
    "react_system_prompt = \"\"\"\n",
    "You are a function calling AI model. You operate by running a loop with the following steps: Thought, Action, Observation.\n",
    "You are provided with function signatures within <tools></tools> XML tags.\n",
    "You may call one or more functions to assist with the user query. Don' make assumptions about what values to plug\n",
    "into functions. Pay special attention to the properties 'types'. You should use those types as in a Python dict.\n",
    "\n",
    "For each function call return a json object with function name and arguments within <tool_call></tool_call> XML tags as follows:\n",
    "\n",
    "<tool_call>\n",
    "{\"name\": <function-name>,\"arguments\": <args-dict>, \"id\": <monotonically-increasing-id>}\n",
    "</tool_call>\n",
    "\n",
    "Here are the available tools / actions:\n",
    "\n",
    "<tools> \n",
    "%s\n",
    "</tools>\n",
    "\n",
    "Example session:\n",
    "\n",
    "<question>What's the current temperature in Madrid?</question>\n",
    "<thought>I need to get the current weather in Madrid</thought>\n",
    "<tool_call>{\"name\": \"get_current_weather\",\"arguments\": {\"location\": \"Madrid\", \"unit\": \"celsius\"}, \"id\": 0}</tool_call>\n",
    "\n",
    "You will be called again with this:\n",
    "\n",
    "<observation>{0: {\"temperature\": 25, \"unit\": \"celsius\"}}</observation>\n",
    "\n",
    "You then output:\n",
    "\n",
    "<response>The current temperature in Madrid is 25 degrees Celsius</response>\n",
    "\n",
    "Additional constraints:\n",
    "\n",
    "- If the user asks you something unrelated to any of the tools above, answer freely enclosing your answer with <response></response> tags.\n",
    "\n",
    "\"\"\""
   ]
  },
  {
   "cell_type": "code",
   "execution_count": 114,
   "metadata": {},
   "outputs": [],
   "source": [
    "import math\n",
    "@tool\n",
    "def sum_elements(a:int,b:int)-> int:\n",
    "    return a+b\n",
    "\n",
    "@tool\n",
    "def multiply_elements(a:int , b:int) ->int:\n",
    "    return a*b\n",
    "\n",
    "@tool\n",
    "def compute_log(x:int) -> float|str:\n",
    "    if x<=0:\n",
    "        return \"Logarithm is undefined for values less than or equal to 0\"\n",
    "    return math.log(x)\n",
    "\n",
    "\n",
    "tools = {\n",
    "    \"sum_elements\": sum_elements,\n",
    "    \"multiply_elements\" : multiply_elements,\n",
    "    \"compute_log\" : compute_log\n",
    "}"
   ]
  },
  {
   "cell_type": "code",
   "execution_count": 115,
   "metadata": {},
   "outputs": [
    {
     "name": "stdout",
     "output_type": "stream",
     "text": [
      "Tool Name : sum_elements\n",
      "Tool Signature : {\"name\": \"sum_elements\", \"description\": null, \"parameters\": {\"properties\": {\"a\": {\"type\": \"int\"}, \"b\": {\"type\": \"int\"}}}}\n"
     ]
    }
   ],
   "source": [
    "print(f\"Tool Name : {sum_elements.name}\")\n",
    "print(F\"Tool Signature : {sum_elements.fn_signature}\")"
   ]
  },
  {
   "cell_type": "code",
   "execution_count": 116,
   "metadata": {},
   "outputs": [
    {
     "data": {
      "text/plain": [
       "'{\"name\": \"sum_elements\", \"description\": null, \"parameters\": {\"properties\": {\"a\": {\"type\": \"int\"}, \"b\": {\"type\": \"int\"}}}},\\n{\"name\": \"multiply_elements\", \"description\": null, \"parameters\": {\"properties\": {\"a\": {\"type\": \"int\"}, \"b\": {\"type\": \"int\"}}}},\\n{\"name\": \"compute_log\", \"description\": null, \"parameters\": {\"properties\": {\"x\": {\"type\": \"int\"}}}}'"
      ]
     },
     "execution_count": 116,
     "metadata": {},
     "output_type": "execute_result"
    }
   ],
   "source": [
    "tools_signature = sum_elements.fn_signature + \",\\n\" + multiply_elements.fn_signature + \",\\n\" + compute_log.fn_signature\n",
    "tools_signature"
   ]
  },
  {
   "cell_type": "code",
   "execution_count": 117,
   "metadata": {},
   "outputs": [
    {
     "name": "stdout",
     "output_type": "stream",
     "text": [
      "\n",
      "You are a function calling AI model. You operate by running a loop with the following steps: Thought, Action, Observation.\n",
      "You are provided with function signatures within <tools></tools> XML tags.\n",
      "You may call one or more functions to assist with the user query. Don' make assumptions about what values to plug\n",
      "into functions. Pay special attention to the properties 'types'. You should use those types as in a Python dict.\n",
      "\n",
      "For each function call return a json object with function name and arguments within <tool_call></tool_call> XML tags as follows:\n",
      "\n",
      "<tool_call>\n",
      "{\"name\": <function-name>,\"arguments\": <args-dict>, \"id\": <monotonically-increasing-id>}\n",
      "</tool_call>\n",
      "\n",
      "Here are the available tools / actions:\n",
      "\n",
      "<tools> \n",
      "{\"name\": \"sum_elements\", \"description\": null, \"parameters\": {\"properties\": {\"a\": {\"type\": \"int\"}, \"b\": {\"type\": \"int\"}}}},\n",
      "{\"name\": \"multiply_elements\", \"description\": null, \"parameters\": {\"properties\": {\"a\": {\"type\": \"int\"}, \"b\": {\"type\": \"int\"}}}},\n",
      "{\"name\": \"compute_log\", \"description\": null, \"parameters\": {\"properties\": {\"x\": {\"type\": \"int\"}}}}\n",
      "</tools>\n",
      "\n",
      "Example session:\n",
      "\n",
      "<question>What's the current temperature in Madrid?</question>\n",
      "<thought>I need to get the current weather in Madrid</thought>\n",
      "<tool_call>{\"name\": \"get_current_weather\",\"arguments\": {\"location\": \"Madrid\", \"unit\": \"celsius\"}, \"id\": 0}</tool_call>\n",
      "\n",
      "You will be called again with this:\n",
      "\n",
      "<observation>{0: {\"temperature\": 25, \"unit\": \"celsius\"}}</observation>\n",
      "\n",
      "You then output:\n",
      "\n",
      "<response>The current temperature in Madrid is 25 degrees Celsius</response>\n",
      "\n",
      "Additional constraints:\n",
      "\n",
      "- If the user asks you something unrelated to any of the tools above, answer freely enclosing your answer with <response></response> tags.\n",
      "\n",
      "\n"
     ]
    }
   ],
   "source": [
    "react_system_prompt = react_system_prompt % tools_signature\n",
    "print(react_system_prompt)"
   ]
  },
  {
   "cell_type": "markdown",
   "metadata": {},
   "source": [
    "## ReAct Loop -1 "
   ]
  },
  {
   "cell_type": "code",
   "execution_count": 118,
   "metadata": {},
   "outputs": [],
   "source": [
    "user_qn = \"I want to calculate the sum of 1234  and 5678 and multiply the result by 5.Then i want to take the logarithm of this result\"\n",
    "\n",
    "chat_history = [\n",
    "    {\n",
    "        \"role\" : \"system\",\n",
    "        \"content\" : react_system_prompt\n",
    "    },\n",
    "    {\n",
    "        \"role\" : \"user\" ,\n",
    "        \"content\" : user_qn\n",
    "    }\n",
    "]"
   ]
  },
  {
   "cell_type": "code",
   "execution_count": 119,
   "metadata": {},
   "outputs": [
    {
     "name": "stdout",
     "output_type": "stream",
     "text": [
      "<thought>I need to calculate the sum of 1234 and 5678, then multiply the result by 5, and finally take the logarithm of this result. I will use the sum_elements, multiply_elements, and compute_log functions to achieve this.</thought>\n",
      "<tool_call>{\"name\": \"sum_elements\",\"arguments\": {\"a\": 1234, \"b\": 5678}, \"id\": 0}</tool_call>\n"
     ]
    }
   ],
   "source": [
    "response = client.chat.completions.create(\n",
    "    messages= chat_history,\n",
    "    model=model\n",
    ")\n",
    "\n",
    "response = response.choices[0].message.content\n",
    "print(response)"
   ]
  },
  {
   "cell_type": "code",
   "execution_count": 120,
   "metadata": {},
   "outputs": [],
   "source": [
    "chat_history.append(\n",
    "    {\n",
    "        \"role\" : \"assistant\" ,\n",
    "        \"content\" : response\n",
    "    }\n",
    ")"
   ]
  },
  {
   "cell_type": "markdown",
   "metadata": {},
   "source": [
    "## ReAct Loop -2"
   ]
  },
  {
   "cell_type": "code",
   "execution_count": 121,
   "metadata": {},
   "outputs": [
    {
     "data": {
      "text/plain": [
       "TagContentResult(content=['{\"name\": \"sum_elements\",\"arguments\": {\"a\": 1234, \"b\": 5678}, \"id\": 0}'], found=True)"
      ]
     },
     "execution_count": 121,
     "metadata": {},
     "output_type": "execute_result"
    }
   ],
   "source": [
    "tool_call = extract_tag_content(response ,tag = \"tool_call\")\n",
    "tool_call"
   ]
  },
  {
   "cell_type": "code",
   "execution_count": 122,
   "metadata": {},
   "outputs": [
    {
     "data": {
      "text/plain": [
       "{'name': 'sum_elements', 'arguments': {'a': 1234, 'b': 5678}, 'id': 0}"
      ]
     },
     "execution_count": 122,
     "metadata": {},
     "output_type": "execute_result"
    }
   ],
   "source": [
    "tool_call = json.loads(tool_call.content[0])\n",
    "tool_call"
   ]
  },
  {
   "cell_type": "code",
   "execution_count": 123,
   "metadata": {},
   "outputs": [],
   "source": [
    "tool_result = tools[tool_call[\"name\"]].run(**tool_call[\"arguments\"])"
   ]
  },
  {
   "cell_type": "code",
   "execution_count": 124,
   "metadata": {},
   "outputs": [
    {
     "data": {
      "text/plain": [
       "6912"
      ]
     },
     "execution_count": 124,
     "metadata": {},
     "output_type": "execute_result"
    }
   ],
   "source": [
    "tool_result"
   ]
  },
  {
   "cell_type": "code",
   "execution_count": 125,
   "metadata": {},
   "outputs": [],
   "source": [
    "assert tool_result == 1234 + 5678"
   ]
  },
  {
   "cell_type": "code",
   "execution_count": 126,
   "metadata": {},
   "outputs": [],
   "source": [
    "chat_history.append(\n",
    "    {\n",
    "        \"role\" : \"user\" ,\n",
    "        \"content\" : f\"<Observation> {tool_result} </observation> \"\n",
    "    }\n",
    ")"
   ]
  },
  {
   "cell_type": "markdown",
   "metadata": {},
   "source": [
    "## ReAct Loop -3 "
   ]
  },
  {
   "cell_type": "code",
   "execution_count": 127,
   "metadata": {},
   "outputs": [
    {
     "name": "stdout",
     "output_type": "stream",
     "text": [
      "<thought>I have the sum of 1234 and 5678, which is 6912. Now, I need to multiply this result by 5.</thought>\n",
      "<tool_call>{\"name\": \"multiply_elements\",\"arguments\": {\"a\": 6912, \"b\": 5}, \"id\": 1}</tool_call>\n"
     ]
    }
   ],
   "source": [
    "response = client.chat.completions.create(\n",
    "    messages= chat_history,\n",
    "    model=model\n",
    ")\n",
    "\n",
    "response = response.choices[0].message.content\n",
    "print(response)"
   ]
  },
  {
   "cell_type": "code",
   "execution_count": 128,
   "metadata": {},
   "outputs": [],
   "source": [
    "chat_history.append(\n",
    "    {\n",
    "        \"role\" : \"assistant\" ,\n",
    "        \"content\" : response\n",
    "    }\n",
    ")"
   ]
  },
  {
   "cell_type": "markdown",
   "metadata": {},
   "source": [
    "## ReAct Loop - 4"
   ]
  },
  {
   "cell_type": "code",
   "execution_count": 129,
   "metadata": {},
   "outputs": [
    {
     "name": "stdout",
     "output_type": "stream",
     "text": [
      "34560\n"
     ]
    }
   ],
   "source": [
    "tool_call = extract_tag_content(response ,tag = \"tool_call\")\n",
    "tool_call = json.loads(tool_call.content[0])\n",
    "tool_result = tools[tool_call[\"name\"]].run(**tool_call[\"arguments\"])\n",
    "print(tool_result)"
   ]
  },
  {
   "cell_type": "code",
   "execution_count": 130,
   "metadata": {},
   "outputs": [],
   "source": [
    "assert tool_result == (1234+5678) *5 "
   ]
  },
  {
   "cell_type": "code",
   "execution_count": 131,
   "metadata": {},
   "outputs": [],
   "source": [
    "chat_history.append(\n",
    "    {\n",
    "        \"role\" : \"user\" ,\n",
    "        \"content\" : f\"<Observation> {tool_result} </observation> \"\n",
    "    }\n",
    ")"
   ]
  },
  {
   "cell_type": "markdown",
   "metadata": {},
   "source": [
    "## ReAct Loop - 5"
   ]
  },
  {
   "cell_type": "code",
   "execution_count": 132,
   "metadata": {},
   "outputs": [
    {
     "name": "stdout",
     "output_type": "stream",
     "text": [
      "<thought>I have the result of multiplying 6912 by 5, which is 34560. Now, I need to calculate the logarithm of this result.</thought>\n",
      "<tool_call>{\"name\": \"compute_log\",\"arguments\": {\"x\": 34560}, \"id\": 2}</tool_call>\n"
     ]
    }
   ],
   "source": [
    "response = client.chat.completions.create(\n",
    "    messages= chat_history,\n",
    "    model=model\n",
    ")\n",
    "\n",
    "response = response.choices[0].message.content\n",
    "print(response)"
   ]
  },
  {
   "cell_type": "code",
   "execution_count": 133,
   "metadata": {},
   "outputs": [],
   "source": [
    "chat_history.append(\n",
    "    {\n",
    "        \"role\" : \"assistant\" ,\n",
    "        \"content\" : response\n",
    "    }\n",
    ")"
   ]
  },
  {
   "cell_type": "markdown",
   "metadata": {},
   "source": [
    "## ReAct Loop - 6"
   ]
  },
  {
   "cell_type": "code",
   "execution_count": 134,
   "metadata": {},
   "outputs": [
    {
     "name": "stdout",
     "output_type": "stream",
     "text": [
      "10.450452222917992\n"
     ]
    }
   ],
   "source": [
    "tool_call = extract_tag_content(response ,tag = \"tool_call\")\n",
    "tool_call = json.loads(tool_call.content[0])\n",
    "tool_result = tools[tool_call[\"name\"]].run(**tool_call[\"arguments\"])\n",
    "print(tool_result)"
   ]
  },
  {
   "cell_type": "code",
   "execution_count": 135,
   "metadata": {},
   "outputs": [],
   "source": [
    "assert tool_result == math.log((1234 + 5678) * 5)"
   ]
  },
  {
   "cell_type": "code",
   "execution_count": 136,
   "metadata": {},
   "outputs": [],
   "source": [
    "chat_history.append(\n",
    "    {\n",
    "        \"role\" : \"user\" ,\n",
    "        \"content\" : f\"<Observation> {tool_result} </observation> \"\n",
    "    }\n",
    ")"
   ]
  },
  {
   "cell_type": "markdown",
   "metadata": {},
   "source": [
    "## ReAct Loop - 7"
   ]
  },
  {
   "cell_type": "code",
   "execution_count": 137,
   "metadata": {},
   "outputs": [
    {
     "name": "stdout",
     "output_type": "stream",
     "text": [
      "<response>The result of calculating the sum of 1234 and 5678, then multiplying by 5, and finally taking the logarithm is 10.450452222917992</response>\n"
     ]
    }
   ],
   "source": [
    "response = client.chat.completions.create(\n",
    "    messages= chat_history,\n",
    "    model=model\n",
    ")\n",
    "\n",
    "response = response.choices[0].message.content\n",
    "print(response)"
   ]
  },
  {
   "cell_type": "markdown",
   "metadata": {},
   "source": [
    "## Agentic Pattern Library"
   ]
  },
  {
   "cell_type": "code",
   "execution_count": 142,
   "metadata": {},
   "outputs": [],
   "source": [
    "from agentic_patterns.planning_pattern.react_agent import ReactAgent\n",
    "\n",
    "agent = ReactAgent(tools = [sum_elements,multiply_elements,compute_log],model=model)\n"
   ]
  },
  {
   "cell_type": "code",
   "execution_count": 144,
   "metadata": {},
   "outputs": [
    {
     "name": "stdout",
     "output_type": "stream",
     "text": [
      "\u001b[35m\n",
      "Thought: I need to calculate the sum of 1234 and 5678, then multiply the result by 5, and finally compute the logarithm of this result. I will use the sum_elements, multiply_elements, and compute_log functions to achieve this.\n",
      "\u001b[32m\n",
      "Using Tool: sum_elements\n",
      "\u001b[32m\n",
      "Tool call dict: \n",
      "{'name': 'sum_elements', 'arguments': {'a': 1234, 'b': 5678}, 'id': 0}\n",
      "\u001b[32m\n",
      "Tool result: \n",
      "6912\n",
      "\u001b[34m\n",
      "Observations: {0: 6912}\n",
      "\u001b[35m\n",
      "Thought: To multiply 6912 by 5, I will use the multiply_elements function.\n",
      "\u001b[32m\n",
      "Using Tool: multiply_elements\n",
      "\u001b[32m\n",
      "Tool call dict: \n",
      "{'name': 'multiply_elements', 'arguments': {'a': 6912, 'b': 5}, 'id': 1}\n",
      "\u001b[32m\n",
      "Tool result: \n",
      "34560\n",
      "\u001b[34m\n",
      "Observations: {1: 34560}\n",
      "\u001b[35m\n",
      "Thought: To compute the logarithm of 34560, I will use the compute_log function.\n",
      "\u001b[32m\n",
      "Using Tool: compute_log\n",
      "\u001b[32m\n",
      "Tool call dict: \n",
      "{'name': 'compute_log', 'arguments': {'x': 34560}, 'id': 2}\n",
      "\u001b[32m\n",
      "Tool result: \n",
      "10.450452222917992\n",
      "\u001b[34m\n",
      "Observations: {2: 10.450452222917992}\n",
      "The sum of 1234 and 5678 is 6912. Multiplying this result by 5 gives 34560. The logarithm of 34560 is approximately 10.45.\n"
     ]
    }
   ],
   "source": [
    "response = agent.run(user_msg = \"I want to calculate the sum of 1234  and 5678 and multiply the result by 5.Then i want to take the logarithm of this result\")\n",
    "print(response)"
   ]
  }
 ],
 "metadata": {
  "kernelspec": {
   "display_name": "base",
   "language": "python",
   "name": "python3"
  },
  "language_info": {
   "codemirror_mode": {
    "name": "ipython",
    "version": 3
   },
   "file_extension": ".py",
   "mimetype": "text/x-python",
   "name": "python",
   "nbconvert_exporter": "python",
   "pygments_lexer": "ipython3",
   "version": "3.12.4"
  }
 },
 "nbformat": 4,
 "nbformat_minor": 2
}
