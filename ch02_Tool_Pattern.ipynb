{
 "cells": [
  {
   "cell_type": "markdown",
   "metadata": {},
   "source": [
    "# Tool Pattern\n",
    "The agent uses external tools (e.g., APIs, databases, or file systems) to enhance its functionality."
   ]
  },
  {
   "cell_type": "markdown",
   "metadata": {},
   "source": [
    "<img src = \"https://github.com/neural-maze/agentic_patterns/raw/main/img/tool_pattern.png\" height =\"650\">"
   ]
  },
  {
   "cell_type": "code",
   "execution_count": 18,
   "metadata": {},
   "outputs": [],
   "source": [
    "import json\n",
    "\n",
    "def get_weather_data(location : str , unit : str):\n",
    "    if location == \"Madrid\":\n",
    "        return json.dumps({\"temperature\":25,\"unit\":unit})\n",
    "    else:\n",
    "        return json.dumps({\"temperature\":25,\"unit\":unit})"
   ]
  },
  {
   "cell_type": "code",
   "execution_count": 19,
   "metadata": {},
   "outputs": [
    {
     "data": {
      "text/plain": [
       "'{\"temperature\": 25, \"unit\": \"celsius\"}'"
      ]
     },
     "execution_count": 19,
     "metadata": {},
     "output_type": "execute_result"
    }
   ],
   "source": [
    "get_weather_data(location=\"Madrid\", unit=\"celsius\")"
   ]
  },
  {
   "cell_type": "code",
   "execution_count": 20,
   "metadata": {},
   "outputs": [],
   "source": [
    "import os\n",
    "from groq import Groq\n",
    "from dotenv import load_dotenv\n",
    "from IPython.display import display_markdown\n",
    "\n",
    "GROQ_API_KEY = os.getenv(\"GROQ_API_KEY\")\n",
    "client = Groq(api_key=GROQ_API_KEY)"
   ]
  },
  {
   "cell_type": "code",
   "execution_count": 21,
   "metadata": {},
   "outputs": [],
   "source": [
    "model = \"llama-3.3-70b-versatile\"\n",
    "\n",
    "tool_system_prompt = \"\"\"\n",
    "You are a function calling AI model. You are provided with function signatures within <tools></tools> XML tags. \n",
    "You may call one or more functions to assist with the user query. Don't make assumptions about what values to plug \n",
    "into functions. Pay special attention to the properties 'types'. You should use those types as in a Python dict.\n",
    "For each function call return a json object with function name and arguments within <tool_call></tool_call> XML tags as follows:\n",
    "\n",
    "<tool_call>\n",
    "{\"name\": <function-name>,\"arguments\": <args-dict>}\n",
    "</tool_call>\n",
    "\n",
    "Here are the available tools:\n",
    "\n",
    "<tools> {\n",
    "    \"name\": \"get_current_weather\",\n",
    "    \"description\": \"Get the current weather in a given location location (str): The city and state, e.g. Madrid, Barcelona unit (str): The unit. It can take two values; 'celsius', 'fahrenheit'\",\n",
    "    \"parameters\": {\n",
    "        \"properties\": {\n",
    "            \"location\": {\n",
    "                \"type\": \"str\"\n",
    "            },\n",
    "            \"unit\": {\n",
    "                \"type\": \"str\"\n",
    "            }\n",
    "        }\n",
    "    }\n",
    "}\n",
    "</tools>\n",
    "\"\"\""
   ]
  },
  {
   "cell_type": "code",
   "execution_count": 22,
   "metadata": {},
   "outputs": [
    {
     "name": "stdout",
     "output_type": "stream",
     "text": [
      "LLM Response : <tool_call>\n",
      "{\"name\": \"get_current_weather\", \"arguments\": {\"location\": \"Madrid\", \"unit\": \"celsius\"}}\n",
      "</tool_call>\n"
     ]
    }
   ],
   "source": [
    "tool_chat_history = [\n",
    "    {\n",
    "        \"role\" : \"system\",\n",
    "        \"content\": tool_system_prompt\n",
    "    }\n",
    "]\n",
    "\n",
    "agent_chat_history = []\n",
    "\n",
    "user_msg = {\n",
    "    \"role\" : \"user\",\n",
    "    \"content\" : \"What is the Current Temperature in Madrid in Celsius\"\n",
    "}\n",
    "\n",
    "tool_chat_history.append(user_msg)\n",
    "agent_chat_history.append(user_msg)\n",
    "\n",
    "response = client.chat.completions.create(\n",
    "    model = model ,\n",
    "    messages= tool_chat_history\n",
    ")\n",
    "\n",
    "response = response.choices[0].message.content\n",
    "\n",
    "print(\"LLM Response :\",response)"
   ]
  },
  {
   "cell_type": "code",
   "execution_count": 23,
   "metadata": {},
   "outputs": [],
   "source": [
    "import re\n",
    "import json\n",
    "\n",
    "def parse_tool_call_str(tool_call_str: str):\n",
    "    # Extract JSON inside <tool_call> tags\n",
    "    pattern = r'<tool_call>(.*?)</tool_call>'\n",
    "    match = re.search(pattern, tool_call_str, re.DOTALL)\n",
    "\n",
    "    if not match:\n",
    "        print(\"No valid JSON found in tool_call tags.\")\n",
    "        return None\n",
    "\n",
    "    clean_json = match.group(1).strip()  # Extract matched JSON content\n",
    "\n",
    "    try:\n",
    "        return json.loads(clean_json)  # Parse JSON\n",
    "    except json.JSONDecodeError as e:\n",
    "        print(f\"JSON Decode Error: {e}\")\n",
    "        return None\n"
   ]
  },
  {
   "cell_type": "code",
   "execution_count": 24,
   "metadata": {},
   "outputs": [
    {
     "name": "stdout",
     "output_type": "stream",
     "text": [
      "{'location': 'Madrid', 'unit': 'celsius'}\n",
      "{'temperature': 18, 'unit': 'celsius', 'location': 'Madrid'}\n"
     ]
    }
   ],
   "source": [
    "parsed_output = parse_tool_call_str(response)\n",
    "\n",
    "# Mock function\n",
    "def get_weather_data(location, unit):\n",
    "    return {\"temperature\": 18, \"unit\": unit, \"location\": location}\n",
    "\n",
    "# Execute if parsing is successful\n",
    "if parsed_output and \"arguments\" in parsed_output:\n",
    "    result = get_weather_data(**parsed_output[\"arguments\"])\n",
    "    print(parsed_output[\"arguments\"])  \n",
    "    print(result) "
   ]
  },
  {
   "cell_type": "code",
   "execution_count": 25,
   "metadata": {},
   "outputs": [
    {
     "data": {
      "text/plain": [
       "{'temperature': 18, 'unit': 'celsius', 'location': 'Madrid'}"
      ]
     },
     "execution_count": 25,
     "metadata": {},
     "output_type": "execute_result"
    }
   ],
   "source": [
    "result = get_weather_data(**parsed_output[\"arguments\"])\n",
    "result"
   ]
  },
  {
   "cell_type": "code",
   "execution_count": 26,
   "metadata": {},
   "outputs": [],
   "source": [
    "agent_chat_history.append(\n",
    "    {\n",
    "        \"role\" : \"user\",\n",
    "        \"content\" : f\"Observation: {result}\"\n",
    "    }\n",
    ")"
   ]
  },
  {
   "cell_type": "code",
   "execution_count": 27,
   "metadata": {},
   "outputs": [],
   "source": [
    "response = client.chat.completions.create(\n",
    "    messages= agent_chat_history,\n",
    "    model = model\n",
    ")\n",
    "\n",
    "response = response.choices[0].message.content"
   ]
  },
  {
   "cell_type": "code",
   "execution_count": 28,
   "metadata": {},
   "outputs": [],
   "source": [
    "import json\n",
    "import requests\n",
    "from agentic_patterns.tool_pattern.tool import tool\n",
    "from agentic_patterns.tool_pattern.tool_agent import ToolAgent\n",
    "\n",
    "\n",
    "def fetch_top_hacker_news_Stories(top_k : int):\n",
    "    \n",
    "    top_stories_url = 'https://hacker-news.firebaseio.com/v0/topstories.json'\n",
    "    try : \n",
    "        response = requests.get(top_stories_url)\n",
    "        response.raise_for_status()\n",
    "\n",
    "        top_story_ids = response.json()[:top_k]\n",
    "\n",
    "        top_Stories = []\n",
    "\n",
    "        for story_id in top_story_ids:\n",
    "            story_url = f'https://hacker-news.firebaseio.com/v0/item/{story_id}.json'\n",
    "            story_response = requests.get(story_url)\n",
    "            story_response.raise_for_status()  \n",
    "            story_data = story_response.json()\n",
    "\n",
    "            top_Stories.append(\n",
    "                {\n",
    "                    \"title\": story_data.get('title','No title'),\n",
    "                    \"url\" : story_data.get('url','No URL Available')\n",
    "                }\n",
    "            )\n",
    "        return json.dumps(top_Stories)\n",
    "    except requests.exceptions.RequestException as e:\n",
    "        print(f\"Error : {e}\")\n",
    "        return  []\n"
   ]
  },
  {
   "cell_type": "code",
   "execution_count": 29,
   "metadata": {},
   "outputs": [
    {
     "data": {
      "text/plain": [
       "[{'title': 'Let’s code a TCP/IP stack, 1: Ethernet and ARP (2016)',\n",
       "  'url': 'https://www.saminiir.com/lets-code-tcp-ip-stack-1-ethernet-arp/'},\n",
       " {'title': 'Repairable Flatpack Toaster',\n",
       "  'url': 'https://www.kaseyhou.com/#/repairable-flatpack-toaster/'},\n",
       " {'title': 'Windows NT for GameCube/Wii',\n",
       "  'url': 'https://github.com/Wack0/entii-for-workcubes'},\n",
       " {'title': \"The cost of Go's panic and recover\",\n",
       "  'url': 'https://jub0bs.com/posts/2025-02-28-cost-of-panic-recover/'},\n",
       " {'title': \"Apple's Software Quality Crisis\",\n",
       "  'url': 'https://www.eliseomartelli.it/blog/2025-03-02-apple-quality'}]"
      ]
     },
     "execution_count": 29,
     "metadata": {},
     "output_type": "execute_result"
    }
   ],
   "source": [
    "json.loads(fetch_top_hacker_news_Stories(top_k=5))"
   ]
  },
  {
   "cell_type": "code",
   "execution_count": 30,
   "metadata": {},
   "outputs": [],
   "source": [
    "hn_tool = tool(fetch_top_hacker_news_Stories)"
   ]
  },
  {
   "cell_type": "code",
   "execution_count": 31,
   "metadata": {},
   "outputs": [
    {
     "data": {
      "text/plain": [
       "'fetch_top_hacker_news_Stories'"
      ]
     },
     "execution_count": 31,
     "metadata": {},
     "output_type": "execute_result"
    }
   ],
   "source": [
    "hn_tool.name"
   ]
  },
  {
   "cell_type": "code",
   "execution_count": 32,
   "metadata": {},
   "outputs": [
    {
     "data": {
      "text/plain": [
       "{'name': 'fetch_top_hacker_news_Stories',\n",
       " 'description': None,\n",
       " 'parameters': {'properties': {'top_k': {'type': 'int'}}}}"
      ]
     },
     "execution_count": 32,
     "metadata": {},
     "output_type": "execute_result"
    }
   ],
   "source": [
    "json.loads(hn_tool.fn_signature)"
   ]
  },
  {
   "cell_type": "markdown",
   "metadata": {},
   "source": [
    "## Tool Agent"
   ]
  },
  {
   "cell_type": "code",
   "execution_count": 34,
   "metadata": {},
   "outputs": [
    {
     "data": {
      "text/plain": [
       "'I\\'m an artificial intelligence model known as Llama. Llama stands for \"Large Language Model Meta AI.\"'"
      ]
     },
     "execution_count": 34,
     "metadata": {},
     "output_type": "execute_result"
    }
   ],
   "source": [
    "tool_agent = ToolAgent(tools =[hn_tool],model = model)\n",
    "\n",
    "response = tool_agent.run(user_msg=\"Who are you \")\n",
    "response"
   ]
  },
  {
   "cell_type": "code",
   "execution_count": 36,
   "metadata": {},
   "outputs": [
    {
     "name": "stdout",
     "output_type": "stream",
     "text": [
      "\u001b[32m\n",
      "Using Tool: fetch_top_hacker_news_Stories\n",
      "\u001b[32m\n",
      "Tool call dict: \n",
      "{'name': 'fetch_top_hacker_news_Stories', 'arguments': {'top_k': 5}, 'id': 1}\n",
      "\u001b[32m\n",
      "Tool result: \n",
      "[{\"title\": \"Let\\u2019s code a TCP/IP stack, 1: Ethernet and ARP (2016)\", \"url\": \"https://www.saminiir.com/lets-code-tcp-ip-stack-1-ethernet-arp/\"}, {\"title\": \"Repairable Flatpack Toaster\", \"url\": \"https://www.kaseyhou.com/#/repairable-flatpack-toaster/\"}, {\"title\": \"Windows NT for GameCube/Wii\", \"url\": \"https://github.com/Wack0/entii-for-workcubes\"}, {\"title\": \"The cost of Go's panic and recover\", \"url\": \"https://jub0bs.com/posts/2025-02-28-cost-of-panic-recover/\"}, {\"title\": \"Apple's Software Quality Crisis\", \"url\": \"https://www.eliseomartelli.it/blog/2025-03-02-apple-quality\"}]\n",
      "Based on the provided data, the top 5 Hacker News stories right now are:\n",
      "\n",
      "1. **Let’s code a TCP/IP stack, 1: Ethernet and ARP (2016)** - https://www.saminiir.com/lets-code-tcp-ip-stack-1-ethernet-arp/\n",
      "2. **Repairable Flatpack Toaster** - https://www.kaseyhou.com/#/repairable-flatpack-toaster/\n",
      "3. **Windows NT for GameCube/Wii** - https://github.com/Wack0/entii-for-workcubes\n",
      "4. **The cost of Go's panic and recover** - https://jub0bs.com/posts/2025-02-28-cost-of-panic-recover/\n",
      "5. **Apple's Software Quality Crisis** - https://www.eliseomartelli.it/blog/2025-03-02-apple-quality\n",
      "\n",
      "Please note that the ranking may change over time as new stories are submitted and voted on by the Hacker News community.\n"
     ]
    }
   ],
   "source": [
    "response = tool_agent.run(user_msg=\"Tell me the top 5 Hacker News stories right now\")\n",
    "print(response)"
   ]
  }
 ],
 "metadata": {
  "kernelspec": {
   "display_name": "base",
   "language": "python",
   "name": "python3"
  },
  "language_info": {
   "codemirror_mode": {
    "name": "ipython",
    "version": 3
   },
   "file_extension": ".py",
   "mimetype": "text/x-python",
   "name": "python",
   "nbconvert_exporter": "python",
   "pygments_lexer": "ipython3",
   "version": "3.12.4"
  }
 },
 "nbformat": 4,
 "nbformat_minor": 2
}
